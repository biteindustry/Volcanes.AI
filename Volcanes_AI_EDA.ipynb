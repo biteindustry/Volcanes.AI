{
  "cells": [
    {
      "cell_type": "code",
      "execution_count": null,
      "metadata": {
        "id": "YJneZLckSYGl"
      },
      "outputs": [],
      "source": [
        "#Remove unused files\n",
        "!rm -rf sample_data"
      ]
    },
    {
      "cell_type": "markdown",
      "metadata": {
        "id": "Wntmn7RpZtN7"
      },
      "source": [
        "# Load files of kaggle: https://www.kaggle.com/c/predict-volcanic-eruptions-ingv-oe/data"
      ]
    },
    {
      "cell_type": "code",
      "execution_count": null,
      "metadata": {
        "colab": {
          "background_save": true
        },
        "id": "kwkW5qCvevKm"
      },
      "outputs": [],
      "source": [
        "#Unzip the data of the kaggle dataset\n",
        "!unzip -q -o *.zip -d data/"
      ]
    },
    {
      "cell_type": "code",
      "execution_count": null,
      "metadata": {
        "id": "ayRAVFRZjT0S"
      },
      "outputs": [],
      "source": [
        "#Delete zip files\n",
        "!rm -rf *.zip"
      ]
    },
    {
      "cell_type": "markdown",
      "metadata": {
        "id": "bi0RoouYVaW3"
      },
      "source": [
        "# EDA Time!\n",
        "Read all of the csv and move all that doesn't have nulls to cleanData, to create a zip with all the complete data"
      ]
    },
    {
      "cell_type": "code",
      "execution_count": null,
      "metadata": {
        "id": "os2xESrELypW"
      },
      "outputs": [],
      "source": [
        "import numpy as np\n",
        "import pandas as pd\n",
        "import glob\n",
        "import math\n",
        "import os\n",
        "\n",
        "import plotly.express as px\n",
        "from plotly.subplots import make_subplots\n",
        "import plotly.graph_objs as go\n",
        "\n",
        "# Read Train DF\n",
        "trainDF = pd.read_csv(\"data/train.csv\")\n",
        "\n",
        "# Create folders tos tore the datasets without nulls or empty fields\n",
        "os.makedirs(\"cleanData/train\")\n",
        "os.makedirs(\"cleanData/test\")"
      ]
    },
    {
      "cell_type": "code",
      "execution_count": null,
      "metadata": {
        "id": "NK1UF6vvNZHZ"
      },
      "outputs": [],
      "source": [
        "# Creating a mini graph to view the data distribution of each time to eruption of every segment of the dataset\n",
        "fig = px.histogram(\n",
        "    trainDF, \n",
        "    x=\"time_to_eruption\",\n",
        "    width=800,\n",
        "    height=500,\n",
        "    nbins=100,\n",
        "    title='Time to eruption distribution'\n",
        ")\n",
        "\n",
        "fig.show()"
      ]
    },
    {
      "cell_type": "code",
      "execution_count": null,
      "metadata": {
        "id": "AygUgl4TN4y1"
      },
      "outputs": [],
      "source": [
        "# Loading each segment of the train data\n",
        "train_frags = glob.glob(\"data/train/*\")\n",
        "print(\"Train Size: \" + str(len(train_frags)))"
      ]
    },
    {
      "cell_type": "code",
      "execution_count": null,
      "metadata": {
        "id": "vX6u9uS0OnSN"
      },
      "outputs": [],
      "source": [
        "# Check and move each train segment that not have nulls to cleanData folder\n",
        "for flag in train_frags:\n",
        "  sensorDF = pd.read_csv(flag)\n",
        "  if sensorDF.isnull().sum().sum() == 0:\n",
        "    os.rename(flag, flag.replace(\"data/\", \"cleanData/\"))"
      ]
    },
    {
      "cell_type": "code",
      "source": [
        "# Loading each segment of the test data\n",
        "test_frags = glob.glob(\"data/test/*\")\n",
        "print(\"Test Size: \" + str(len(test_frags)))"
      ],
      "metadata": {
        "id": "Gi0pTN3lSEKf"
      },
      "execution_count": null,
      "outputs": []
    },
    {
      "cell_type": "code",
      "execution_count": null,
      "metadata": {
        "id": "VJQKArOBTKsf"
      },
      "outputs": [],
      "source": [
        "# Check and move each test segment that not have nulls to cleanData folder (this data doesn't have time to eruption row)\n",
        "for flag in test_frags:\n",
        "  sensorDF = pd.read_csv(flag)\n",
        "  if sensorDF.isnull().sum().sum() == 0:\n",
        "    os.rename(flag, flag.replace(\"data/\", \"cleanData/\"))"
      ]
    },
    {
      "cell_type": "code",
      "execution_count": null,
      "metadata": {
        "id": "achNVSRWWgkc"
      },
      "outputs": [],
      "source": [
        "# Compress all the cleaned data to use it later and save time each time that we use colab\n",
        "!zip -r /content/cleanData.zip /content/cleanData"
      ]
    }
  ],
  "metadata": {
    "colab": {
      "collapsed_sections": [],
      "name": "Volcanes.AI EDA",
      "provenance": []
    },
    "kernelspec": {
      "display_name": "Python 3",
      "name": "python3"
    },
    "language_info": {
      "name": "python"
    }
  },
  "nbformat": 4,
  "nbformat_minor": 0
}