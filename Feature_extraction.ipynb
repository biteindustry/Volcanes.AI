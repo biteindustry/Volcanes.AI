{
  "cells": [
    {
      "cell_type": "markdown",
      "metadata": {
        "id": "Fn-8luyA6Rn7"
      },
      "source": [
        "#Install tsfresh, removing last version of some libraries to avoid dependency collision (this don't work in tiny/free colab envs, this notebook it's used in a jupyter notebook)"
      ]
    },
    {
      "cell_type": "code",
      "execution_count": null,
      "metadata": {
        "id": "GSjcuNW2pUKf"
      },
      "outputs": [],
      "source": [
        "#Try to install tsfresh\n",
        "!pip install --upgrade pip\n",
        "!pip uninstall numpy pandas --yes\n",
        "!pip install tsfresh gdown\n",
        "!pip install sktime"
      ]
    },
    {
      "cell_type": "code",
      "execution_count": null,
      "metadata": {
        "id": "4B_sz2914z0B"
      },
      "outputs": [],
      "source": [
        "#Update tsfresh (to avoid some problems in the prev step in some colab envs)\n",
        "!pip install --upgrade --force-reinstall tsfresh"
      ]
    },
    {
      "cell_type": "code",
      "execution_count": null,
      "metadata": {
        "id": "fG15nWi_6RNb"
      },
      "outputs": [],
      "source": [
        "#Install dependencies (to have some tools that in colab are installed by default) to use it in custom jupyter env\n",
        "!apt-get install zip unzip\n",
        "!pip install --upgrade pip\n",
        "!pip install gdown"
      ]
    },
    {
      "cell_type": "markdown",
      "metadata": {
        "id": "Wntmn7RpZtN7"
      },
      "source": [
        "# Download cleaned files from google drive"
      ]
    },
    {
      "cell_type": "code",
      "execution_count": null,
      "metadata": {
        "id": "YJneZLckSYGl"
      },
      "outputs": [],
      "source": [
        "#Remove unused files\n",
        "!rm -rf sample_data"
      ]
    },
    {
      "cell_type": "code",
      "execution_count": null,
      "metadata": {
        "colab": {
          "base_uri": "https://localhost:8080/"
        },
        "id": "nVD7RYuJZ57L",
        "outputId": "9cff60bb-d003-49a1-caa8-46b86b87593c"
      },
      "outputs": [
        {
          "name": "stdout",
          "output_type": "stream",
          "text": [
            "Downloading...\n",
            "From: https://drive.google.com/uc?id=16PUjgobp9eNNNDz3gvun7T9VfllJNP9B\n",
            "To: /tf/cleanData.zip\n",
            "100%|██████████████████████████████████████| 2.44G/2.44G [00:57<00:00, 42.6MB/s]\n"
          ]
        }
      ],
      "source": [
        "# Upload (or Download files from drive) cleaned data from EDA step\n",
        "!gdown --id xxxxxx"
      ]
    },
    {
      "cell_type": "code",
      "execution_count": null,
      "metadata": {
        "id": "kwkW5qCvevKm"
      },
      "outputs": [],
      "source": [
        "# Unzup all of the data\n",
        "!unzip -q -o *.zip -d tempData/"
      ]
    },
    {
      "cell_type": "code",
      "execution_count": null,
      "metadata": {
        "id": "ZYNWE6LnQ1kZ"
      },
      "outputs": [],
      "source": [
        "#Delete zip files to avoid colab space problems   \n",
        "!rm -rf *.zip"
      ]
    },
    {
      "cell_type": "code",
      "execution_count": null,
      "metadata": {
        "id": "DEOpy2VmhlM9"
      },
      "outputs": [],
      "source": [
        "# Move cleaned data to a root folder, to handle it better\n",
        "\n",
        "import os\n",
        "os.rename(\"tempData/content/cleanData\", \"data\")\n",
        "\n",
        "# Remove the folder\n",
        "!rm -rf tempData"
      ]
    },
    {
      "cell_type": "markdown",
      "metadata": {
        "id": "luyJyLBGdA6s"
      },
      "source": [
        "#Load libs"
      ]
    },
    {
      "cell_type": "code",
      "execution_count": null,
      "metadata": {
        "id": "pVOnJmy1dDkD"
      },
      "outputs": [],
      "source": [
        "# Import the used python libs\n",
        "import numpy as np\n",
        "import pandas as pd\n",
        "import glob\n",
        "import math\n",
        "import os\n",
        "import gc\n",
        "import sys"
      ]
    },
    {
      "cell_type": "markdown",
      "metadata": {
        "id": "MgeVY0r2kyjy"
      },
      "source": [
        "#Another mini EDA joining and processing with tsfresh the selected CSVs in the prev step of EDA to get more data with more columns and reducing rows"
      ]
    },
    {
      "cell_type": "code",
      "execution_count": null,
      "metadata": {
        "colab": {
          "base_uri": "https://localhost:8080/"
        },
        "id": "L2Ue9EhsRrMI",
        "outputId": "35801e6f-753e-4223-ba54-69bff3b58ec1"
      },
      "outputs": [
        {
          "name": "stdout",
          "output_type": "stream",
          "text": [
            "Train Size: 4431\n",
            "Test Size: 4520\n"
          ]
        }
      ],
      "source": [
        "#Load train CSV into data frames\n",
        "trainDF = pd.read_csv(\"data/train.csv\")\n",
        "print(\"Train Size: \" + str(len(trainDF)))"
      ]
    },
    {
      "cell_type": "code",
      "execution_count": null,
      "metadata": {
        "id": "4K2xFgokiJvd",
        "outputId": "8bc63f64-3512-4731-cea7-abc8a88ffc09"
      },
      "outputs": [
        {
          "name": "stdout",
          "output_type": "stream",
          "text": [
            "New Train Size: 1211\n"
          ]
        }
      ],
      "source": [
        "# Get only the train segment data of the cleaned files only\n",
        "existingSegmentTrain = []\n",
        "\n",
        "for segment in trainDF.segment_id:\n",
        "  if os.path.exists('data/train/'+ str(segment) +'.csv'):\n",
        "    existingSegmentTrain.append(segment)\n",
        "\n",
        "trainDF = trainDF.query(\"segment_id in @existingSegmentTrain\")\n",
        "print(\"New Train Size: \" + str(len(trainDF)))\n",
        "trainDF_EDA.to_csv(\"data/trainClean.csv\")"
      ]
    },
    {
      "cell_type": "code",
      "source": [
        "#Load test CSV into data frames\n",
        "testDF = pd.read_csv(\"data/sample_submission.csv\")\n",
        "print(\"Test Size: \" + str(len(testDF)))"
      ],
      "metadata": {
        "id": "MCuFLQlWbvbF"
      },
      "execution_count": null,
      "outputs": []
    },
    {
      "cell_type": "code",
      "execution_count": null,
      "metadata": {
        "id": "yCWTIgoLneDC",
        "outputId": "4a640f9c-fe08-4194-bc1f-76e864532d6b"
      },
      "outputs": [
        {
          "name": "stdout",
          "output_type": "stream",
          "text": [
            "New Test Size: 812\n"
          ]
        }
      ],
      "source": [
        "#Get only the test segment data of the cleaned files only\n",
        "existingSegmentTrain = []\n",
        "\n",
        "for segment in testDF.segment_id:\n",
        "  if os.path.exists('data/test/'+ str(segment) +'.csv'):\n",
        "    existingSegmentTrain.append(segment)\n",
        "\n",
        "testDF_EDA = testDF.query(\"segment_id in @existingSegmentTrain\")\n",
        "print(\"New Test Size: \" + str(len(testDF_EDA)))\n",
        "testDF_EDA.to_csv(\"data/sample_submissionClean.csv\")"
      ]
    },
    {
      "cell_type": "code",
      "execution_count": null,
      "metadata": {
        "id": "trmtJsQ4p1Up"
      },
      "outputs": [],
      "source": [
        "testDF_EDA.head(10)"
      ]
    },
    {
      "cell_type": "code",
      "execution_count": null,
      "metadata": {
        "id": "Vt3rN4PXlrhH"
      },
      "outputs": [],
      "source": [
        "#Get all of the paths of the files of the train segments data\n",
        "train_frags = glob.glob(\"data/train/*\")\n",
        "print(\"Train Size: \" + str(len(train_frags)))"
      ]
    },
    {
      "cell_type": "code",
      "execution_count": null,
      "metadata": {
        "id": "58d8esSqoBlz"
      },
      "outputs": [],
      "source": [
        "# Join all of the separated CSVs into only one, with all of each segment data with the time to eruption\n",
        "\n",
        "trainDFsArray = []\n",
        "\n",
        "for flag in train_frags:\n",
        "  if os.path.exists(flag):\n",
        "    sensorDF = pd.read_csv(flag)\n",
        "    segment_id = flag.replace(\"data/train/\", \"\").replace(\".csv\", \"\")\n",
        "    df = trainDF[trainDF.segment_id.eq(int(segment_id))]\n",
        "    sensorDF['time_to_eruption'] = df.iloc[0].time_to_eruption\n",
        "    trainDFsArray.append(sensorDF)\n",
        "  else:\n",
        "    print(\"Flag not found: \" + flag)\n",
        "\n",
        "trainDFs = pd.concat(trainDFsArray, ignore_index=True)\n",
        "gc.collect()"
      ]
    },
    {
      "cell_type": "code",
      "execution_count": null,
      "metadata": {
        "id": "l4iEU3MqQ1kc"
      },
      "outputs": [],
      "source": [
        "from tsfresh.feature_extraction import ComprehensiveFCParameters\n",
        "from sktime.transformations.panel.tsfresh import TSFreshFeatureExtractor\n",
        "from tsfresh import extract_features\n",
        "from tsfresh.feature_extraction import MinimalFCParameters\n",
        "from tsfresh.feature_extraction import EfficientFCParameters"
      ]
    },
    {
      "cell_type": "code",
      "execution_count": null,
      "metadata": {
        "id": "zWjA8ZGnQ1kc",
        "outputId": "a2647e93-8304-48a1-bb41-c7740a03194c"
      },
      "outputs": [
        {
          "name": "stderr",
          "output_type": "stream",
          "text": [
            "Feature Extraction: 100%|██████████| 60001/60001 [00:19<00:00, 3146.80it/s]\n"
          ]
        },
        {
          "data": {
            "text/html": [
              "<div>\n",
              "<style scoped>\n",
              "    .dataframe tbody tr th:only-of-type {\n",
              "        vertical-align: middle;\n",
              "    }\n",
              "\n",
              "    .dataframe tbody tr th {\n",
              "        vertical-align: top;\n",
              "    }\n",
              "\n",
              "    .dataframe thead th {\n",
              "        text-align: right;\n",
              "    }\n",
              "</style>\n",
              "<table border=\"1\" class=\"dataframe\">\n",
              "  <thead>\n",
              "    <tr style=\"text-align: right;\">\n",
              "      <th></th>\n",
              "      <th>var_0__sum_values</th>\n",
              "      <th>var_0__median</th>\n",
              "      <th>var_0__mean</th>\n",
              "      <th>var_0__length</th>\n",
              "      <th>var_0__standard_deviation</th>\n",
              "      <th>var_0__variance</th>\n",
              "      <th>var_0__root_mean_square</th>\n",
              "      <th>var_0__maximum</th>\n",
              "      <th>var_0__absolute_maximum</th>\n",
              "      <th>var_0__minimum</th>\n",
              "    </tr>\n",
              "  </thead>\n",
              "  <tbody>\n",
              "    <tr>\n",
              "      <th>0</th>\n",
              "      <td>578.0</td>\n",
              "      <td>11.5</td>\n",
              "      <td>57.8</td>\n",
              "      <td>10.0</td>\n",
              "      <td>191.891011</td>\n",
              "      <td>36822.16</td>\n",
              "      <td>200.407086</td>\n",
              "      <td>482.0</td>\n",
              "      <td>482.0</td>\n",
              "      <td>-153.0</td>\n",
              "    </tr>\n",
              "    <tr>\n",
              "      <th>1</th>\n",
              "      <td>609.0</td>\n",
              "      <td>32.0</td>\n",
              "      <td>60.9</td>\n",
              "      <td>10.0</td>\n",
              "      <td>160.609744</td>\n",
              "      <td>25795.49</td>\n",
              "      <td>171.768158</td>\n",
              "      <td>424.0</td>\n",
              "      <td>424.0</td>\n",
              "      <td>-145.0</td>\n",
              "    </tr>\n",
              "    <tr>\n",
              "      <th>2</th>\n",
              "      <td>443.0</td>\n",
              "      <td>64.5</td>\n",
              "      <td>44.3</td>\n",
              "      <td>10.0</td>\n",
              "      <td>126.989803</td>\n",
              "      <td>16126.41</td>\n",
              "      <td>134.494981</td>\n",
              "      <td>298.0</td>\n",
              "      <td>298.0</td>\n",
              "      <td>-132.0</td>\n",
              "    </tr>\n",
              "    <tr>\n",
              "      <th>3</th>\n",
              "      <td>576.0</td>\n",
              "      <td>35.5</td>\n",
              "      <td>57.6</td>\n",
              "      <td>10.0</td>\n",
              "      <td>133.394303</td>\n",
              "      <td>17794.04</td>\n",
              "      <td>145.299002</td>\n",
              "      <td>275.0</td>\n",
              "      <td>275.0</td>\n",
              "      <td>-113.0</td>\n",
              "    </tr>\n",
              "    <tr>\n",
              "      <th>4</th>\n",
              "      <td>411.0</td>\n",
              "      <td>-67.5</td>\n",
              "      <td>41.1</td>\n",
              "      <td>10.0</td>\n",
              "      <td>192.967070</td>\n",
              "      <td>37236.29</td>\n",
              "      <td>197.295464</td>\n",
              "      <td>445.0</td>\n",
              "      <td>445.0</td>\n",
              "      <td>-127.0</td>\n",
              "    </tr>\n",
              "  </tbody>\n",
              "</table>\n",
              "</div>"
            ],
            "text/plain": [
              "   var_0__sum_values  var_0__median  var_0__mean  var_0__length  \\\n",
              "0              578.0           11.5         57.8           10.0   \n",
              "1              609.0           32.0         60.9           10.0   \n",
              "2              443.0           64.5         44.3           10.0   \n",
              "3              576.0           35.5         57.6           10.0   \n",
              "4              411.0          -67.5         41.1           10.0   \n",
              "\n",
              "   var_0__standard_deviation  var_0__variance  var_0__root_mean_square  \\\n",
              "0                 191.891011         36822.16               200.407086   \n",
              "1                 160.609744         25795.49               171.768158   \n",
              "2                 126.989803         16126.41               134.494981   \n",
              "3                 133.394303         17794.04               145.299002   \n",
              "4                 192.967070         37236.29               197.295464   \n",
              "\n",
              "   var_0__maximum  var_0__absolute_maximum  var_0__minimum  \n",
              "0           482.0                    482.0          -153.0  \n",
              "1           424.0                    424.0          -145.0  \n",
              "2           298.0                    298.0          -132.0  \n",
              "3           275.0                    275.0          -113.0  \n",
              "4           445.0                    445.0          -127.0  "
            ]
          },
          "execution_count": 19,
          "metadata": {},
          "output_type": "execute_result"
        }
      ],
      "source": [
        "# Mini test to check the processing time of the last processed segment and see if it is viable\n",
        "t = TSFreshFeatureExtractor(default_fc_parameters=\"minimal\", show_warnings=False)\n",
        "df2 = t.fit_transform(sensorDF.values)\n",
        "df2.head()"
      ]
    },
    {
      "cell_type": "code",
      "execution_count": null,
      "metadata": {
        "id": "a0yK8dveQ1kc",
        "outputId": "15b92eca-46ca-4ed8-94e4-d9c14809d0f9"
      },
      "outputs": [
        {
          "data": {
            "text/plain": [
              "(60001, 783)"
            ]
          },
          "execution_count": 18,
          "metadata": {},
          "output_type": "execute_result"
        }
      ],
      "source": [
        "# See the generated volume of data of the generated sensor\n",
        "df2.shape"
      ]
    },
    {
      "cell_type": "code",
      "execution_count": null,
      "metadata": {
        "id": "tKF_hHVbQ1kf",
        "outputId": "ead2c27c-ca6d-4933-8aca-e1e02fc25b59"
      },
      "outputs": [
        {
          "name": "stdout",
          "output_type": "stream",
          "text": [
            "{'variance_larger_than_standard_deviation': None, 'has_duplicate_max': None, 'has_duplicate_min': None, 'has_duplicate': None, 'sum_values': None, 'abs_energy': None, 'mean_abs_change': None, 'mean_change': None, 'mean_second_derivative_central': None, 'median': None, 'mean': None, 'length': None, 'standard_deviation': None, 'variation_coefficient': None, 'variance': None, 'skewness': None, 'kurtosis': None, 'root_mean_square': None, 'absolute_sum_of_changes': None, 'longest_strike_below_mean': None, 'longest_strike_above_mean': None, 'count_above_mean': None, 'count_below_mean': None, 'last_location_of_maximum': None, 'first_location_of_maximum': None, 'last_location_of_minimum': None, 'first_location_of_minimum': None, 'percentage_of_reoccurring_values_to_all_values': None, 'percentage_of_reoccurring_datapoints_to_all_datapoints': None, 'sum_of_reoccurring_values': None, 'sum_of_reoccurring_data_points': None, 'ratio_value_number_to_time_series_length': None, 'maximum': None, 'absolute_maximum': None, 'minimum': None, 'benford_correlation': None, 'time_reversal_asymmetry_statistic': [{'lag': 1}, {'lag': 2}, {'lag': 3}], 'c3': [{'lag': 1}, {'lag': 2}, {'lag': 3}], 'cid_ce': [{'normalize': True}, {'normalize': False}], 'symmetry_looking': [{'r': 0.0}, {'r': 0.05}, {'r': 0.1}, {'r': 0.15000000000000002}, {'r': 0.2}, {'r': 0.25}, {'r': 0.30000000000000004}, {'r': 0.35000000000000003}, {'r': 0.4}, {'r': 0.45}, {'r': 0.5}, {'r': 0.55}, {'r': 0.6000000000000001}, {'r': 0.65}, {'r': 0.7000000000000001}, {'r': 0.75}, {'r': 0.8}, {'r': 0.8500000000000001}, {'r': 0.9}, {'r': 0.9500000000000001}], 'large_standard_deviation': [{'r': 0.05}, {'r': 0.1}, {'r': 0.15000000000000002}, {'r': 0.2}, {'r': 0.25}, {'r': 0.30000000000000004}, {'r': 0.35000000000000003}, {'r': 0.4}, {'r': 0.45}, {'r': 0.5}, {'r': 0.55}, {'r': 0.6000000000000001}, {'r': 0.65}, {'r': 0.7000000000000001}, {'r': 0.75}, {'r': 0.8}, {'r': 0.8500000000000001}, {'r': 0.9}, {'r': 0.9500000000000001}], 'quantile': [{'q': 0.1}, {'q': 0.2}, {'q': 0.3}, {'q': 0.4}, {'q': 0.6}, {'q': 0.7}, {'q': 0.8}, {'q': 0.9}], 'autocorrelation': [{'lag': 0}, {'lag': 1}, {'lag': 2}, {'lag': 3}, {'lag': 4}, {'lag': 5}, {'lag': 6}, {'lag': 7}, {'lag': 8}, {'lag': 9}], 'agg_autocorrelation': [{'f_agg': 'mean', 'maxlag': 40}, {'f_agg': 'median', 'maxlag': 40}, {'f_agg': 'var', 'maxlag': 40}], 'partial_autocorrelation': [{'lag': 0}, {'lag': 1}, {'lag': 2}, {'lag': 3}, {'lag': 4}, {'lag': 5}, {'lag': 6}, {'lag': 7}, {'lag': 8}, {'lag': 9}], 'number_cwt_peaks': [{'n': 1}, {'n': 5}], 'number_peaks': [{'n': 1}, {'n': 3}, {'n': 5}, {'n': 10}, {'n': 50}], 'binned_entropy': [{'max_bins': 10}], 'index_mass_quantile': [{'q': 0.1}, {'q': 0.2}, {'q': 0.3}, {'q': 0.4}, {'q': 0.6}, {'q': 0.7}, {'q': 0.8}, {'q': 0.9}], 'cwt_coefficients': [{'widths': (2, 5, 10, 20), 'coeff': 0, 'w': 2}, {'widths': (2, 5, 10, 20), 'coeff': 0, 'w': 5}, {'widths': (2, 5, 10, 20), 'coeff': 0, 'w': 10}, {'widths': (2, 5, 10, 20), 'coeff': 0, 'w': 20}, {'widths': (2, 5, 10, 20), 'coeff': 1, 'w': 2}, {'widths': (2, 5, 10, 20), 'coeff': 1, 'w': 5}, {'widths': (2, 5, 10, 20), 'coeff': 1, 'w': 10}, {'widths': (2, 5, 10, 20), 'coeff': 1, 'w': 20}, {'widths': (2, 5, 10, 20), 'coeff': 2, 'w': 2}, {'widths': (2, 5, 10, 20), 'coeff': 2, 'w': 5}, {'widths': (2, 5, 10, 20), 'coeff': 2, 'w': 10}, {'widths': (2, 5, 10, 20), 'coeff': 2, 'w': 20}, {'widths': (2, 5, 10, 20), 'coeff': 3, 'w': 2}, {'widths': (2, 5, 10, 20), 'coeff': 3, 'w': 5}, {'widths': (2, 5, 10, 20), 'coeff': 3, 'w': 10}, {'widths': (2, 5, 10, 20), 'coeff': 3, 'w': 20}, {'widths': (2, 5, 10, 20), 'coeff': 4, 'w': 2}, {'widths': (2, 5, 10, 20), 'coeff': 4, 'w': 5}, {'widths': (2, 5, 10, 20), 'coeff': 4, 'w': 10}, {'widths': (2, 5, 10, 20), 'coeff': 4, 'w': 20}, {'widths': (2, 5, 10, 20), 'coeff': 5, 'w': 2}, {'widths': (2, 5, 10, 20), 'coeff': 5, 'w': 5}, {'widths': (2, 5, 10, 20), 'coeff': 5, 'w': 10}, {'widths': (2, 5, 10, 20), 'coeff': 5, 'w': 20}, {'widths': (2, 5, 10, 20), 'coeff': 6, 'w': 2}, {'widths': (2, 5, 10, 20), 'coeff': 6, 'w': 5}, {'widths': (2, 5, 10, 20), 'coeff': 6, 'w': 10}, {'widths': (2, 5, 10, 20), 'coeff': 6, 'w': 20}, {'widths': (2, 5, 10, 20), 'coeff': 7, 'w': 2}, {'widths': (2, 5, 10, 20), 'coeff': 7, 'w': 5}, {'widths': (2, 5, 10, 20), 'coeff': 7, 'w': 10}, {'widths': (2, 5, 10, 20), 'coeff': 7, 'w': 20}, {'widths': (2, 5, 10, 20), 'coeff': 8, 'w': 2}, {'widths': (2, 5, 10, 20), 'coeff': 8, 'w': 5}, {'widths': (2, 5, 10, 20), 'coeff': 8, 'w': 10}, {'widths': (2, 5, 10, 20), 'coeff': 8, 'w': 20}, {'widths': (2, 5, 10, 20), 'coeff': 9, 'w': 2}, {'widths': (2, 5, 10, 20), 'coeff': 9, 'w': 5}, {'widths': (2, 5, 10, 20), 'coeff': 9, 'w': 10}, {'widths': (2, 5, 10, 20), 'coeff': 9, 'w': 20}, {'widths': (2, 5, 10, 20), 'coeff': 10, 'w': 2}, {'widths': (2, 5, 10, 20), 'coeff': 10, 'w': 5}, {'widths': (2, 5, 10, 20), 'coeff': 10, 'w': 10}, {'widths': (2, 5, 10, 20), 'coeff': 10, 'w': 20}, {'widths': (2, 5, 10, 20), 'coeff': 11, 'w': 2}, {'widths': (2, 5, 10, 20), 'coeff': 11, 'w': 5}, {'widths': (2, 5, 10, 20), 'coeff': 11, 'w': 10}, {'widths': (2, 5, 10, 20), 'coeff': 11, 'w': 20}, {'widths': (2, 5, 10, 20), 'coeff': 12, 'w': 2}, {'widths': (2, 5, 10, 20), 'coeff': 12, 'w': 5}, {'widths': (2, 5, 10, 20), 'coeff': 12, 'w': 10}, {'widths': (2, 5, 10, 20), 'coeff': 12, 'w': 20}, {'widths': (2, 5, 10, 20), 'coeff': 13, 'w': 2}, {'widths': (2, 5, 10, 20), 'coeff': 13, 'w': 5}, {'widths': (2, 5, 10, 20), 'coeff': 13, 'w': 10}, {'widths': (2, 5, 10, 20), 'coeff': 13, 'w': 20}, {'widths': (2, 5, 10, 20), 'coeff': 14, 'w': 2}, {'widths': (2, 5, 10, 20), 'coeff': 14, 'w': 5}, {'widths': (2, 5, 10, 20), 'coeff': 14, 'w': 10}, {'widths': (2, 5, 10, 20), 'coeff': 14, 'w': 20}], 'spkt_welch_density': [{'coeff': 2}, {'coeff': 5}, {'coeff': 8}], 'ar_coefficient': [{'coeff': 0, 'k': 10}, {'coeff': 1, 'k': 10}, {'coeff': 2, 'k': 10}, {'coeff': 3, 'k': 10}, {'coeff': 4, 'k': 10}, {'coeff': 5, 'k': 10}, {'coeff': 6, 'k': 10}, {'coeff': 7, 'k': 10}, {'coeff': 8, 'k': 10}, {'coeff': 9, 'k': 10}, {'coeff': 10, 'k': 10}], 'change_quantiles': [{'ql': 0.0, 'qh': 0.2, 'isabs': False, 'f_agg': 'mean'}, {'ql': 0.0, 'qh': 0.2, 'isabs': False, 'f_agg': 'var'}, {'ql': 0.0, 'qh': 0.2, 'isabs': True, 'f_agg': 'mean'}, {'ql': 0.0, 'qh': 0.2, 'isabs': True, 'f_agg': 'var'}, {'ql': 0.0, 'qh': 0.4, 'isabs': False, 'f_agg': 'mean'}, {'ql': 0.0, 'qh': 0.4, 'isabs': False, 'f_agg': 'var'}, {'ql': 0.0, 'qh': 0.4, 'isabs': True, 'f_agg': 'mean'}, {'ql': 0.0, 'qh': 0.4, 'isabs': True, 'f_agg': 'var'}, {'ql': 0.0, 'qh': 0.6, 'isabs': False, 'f_agg': 'mean'}, {'ql': 0.0, 'qh': 0.6, 'isabs': False, 'f_agg': 'var'}, {'ql': 0.0, 'qh': 0.6, 'isabs': True, 'f_agg': 'mean'}, {'ql': 0.0, 'qh': 0.6, 'isabs': True, 'f_agg': 'var'}, {'ql': 0.0, 'qh': 0.8, 'isabs': False, 'f_agg': 'mean'}, {'ql': 0.0, 'qh': 0.8, 'isabs': False, 'f_agg': 'var'}, {'ql': 0.0, 'qh': 0.8, 'isabs': True, 'f_agg': 'mean'}, {'ql': 0.0, 'qh': 0.8, 'isabs': True, 'f_agg': 'var'}, {'ql': 0.0, 'qh': 1.0, 'isabs': False, 'f_agg': 'mean'}, {'ql': 0.0, 'qh': 1.0, 'isabs': False, 'f_agg': 'var'}, {'ql': 0.0, 'qh': 1.0, 'isabs': True, 'f_agg': 'mean'}, {'ql': 0.0, 'qh': 1.0, 'isabs': True, 'f_agg': 'var'}, {'ql': 0.2, 'qh': 0.4, 'isabs': False, 'f_agg': 'mean'}, {'ql': 0.2, 'qh': 0.4, 'isabs': False, 'f_agg': 'var'}, {'ql': 0.2, 'qh': 0.4, 'isabs': True, 'f_agg': 'mean'}, {'ql': 0.2, 'qh': 0.4, 'isabs': True, 'f_agg': 'var'}, {'ql': 0.2, 'qh': 0.6, 'isabs': False, 'f_agg': 'mean'}, {'ql': 0.2, 'qh': 0.6, 'isabs': False, 'f_agg': 'var'}, {'ql': 0.2, 'qh': 0.6, 'isabs': True, 'f_agg': 'mean'}, {'ql': 0.2, 'qh': 0.6, 'isabs': True, 'f_agg': 'var'}, {'ql': 0.2, 'qh': 0.8, 'isabs': False, 'f_agg': 'mean'}, {'ql': 0.2, 'qh': 0.8, 'isabs': False, 'f_agg': 'var'}, {'ql': 0.2, 'qh': 0.8, 'isabs': True, 'f_agg': 'mean'}, {'ql': 0.2, 'qh': 0.8, 'isabs': True, 'f_agg': 'var'}, {'ql': 0.2, 'qh': 1.0, 'isabs': False, 'f_agg': 'mean'}, {'ql': 0.2, 'qh': 1.0, 'isabs': False, 'f_agg': 'var'}, {'ql': 0.2, 'qh': 1.0, 'isabs': True, 'f_agg': 'mean'}, {'ql': 0.2, 'qh': 1.0, 'isabs': True, 'f_agg': 'var'}, {'ql': 0.4, 'qh': 0.6, 'isabs': False, 'f_agg': 'mean'}, {'ql': 0.4, 'qh': 0.6, 'isabs': False, 'f_agg': 'var'}, {'ql': 0.4, 'qh': 0.6, 'isabs': True, 'f_agg': 'mean'}, {'ql': 0.4, 'qh': 0.6, 'isabs': True, 'f_agg': 'var'}, {'ql': 0.4, 'qh': 0.8, 'isabs': False, 'f_agg': 'mean'}, {'ql': 0.4, 'qh': 0.8, 'isabs': False, 'f_agg': 'var'}, {'ql': 0.4, 'qh': 0.8, 'isabs': True, 'f_agg': 'mean'}, {'ql': 0.4, 'qh': 0.8, 'isabs': True, 'f_agg': 'var'}, {'ql': 0.4, 'qh': 1.0, 'isabs': False, 'f_agg': 'mean'}, {'ql': 0.4, 'qh': 1.0, 'isabs': False, 'f_agg': 'var'}, {'ql': 0.4, 'qh': 1.0, 'isabs': True, 'f_agg': 'mean'}, {'ql': 0.4, 'qh': 1.0, 'isabs': True, 'f_agg': 'var'}, {'ql': 0.6, 'qh': 0.8, 'isabs': False, 'f_agg': 'mean'}, {'ql': 0.6, 'qh': 0.8, 'isabs': False, 'f_agg': 'var'}, {'ql': 0.6, 'qh': 0.8, 'isabs': True, 'f_agg': 'mean'}, {'ql': 0.6, 'qh': 0.8, 'isabs': True, 'f_agg': 'var'}, {'ql': 0.6, 'qh': 1.0, 'isabs': False, 'f_agg': 'mean'}, {'ql': 0.6, 'qh': 1.0, 'isabs': False, 'f_agg': 'var'}, {'ql': 0.6, 'qh': 1.0, 'isabs': True, 'f_agg': 'mean'}, {'ql': 0.6, 'qh': 1.0, 'isabs': True, 'f_agg': 'var'}, {'ql': 0.8, 'qh': 1.0, 'isabs': False, 'f_agg': 'mean'}, {'ql': 0.8, 'qh': 1.0, 'isabs': False, 'f_agg': 'var'}, {'ql': 0.8, 'qh': 1.0, 'isabs': True, 'f_agg': 'mean'}, {'ql': 0.8, 'qh': 1.0, 'isabs': True, 'f_agg': 'var'}], 'fft_coefficient': [{'coeff': 0, 'attr': 'real'}, {'coeff': 1, 'attr': 'real'}, {'coeff': 2, 'attr': 'real'}, {'coeff': 3, 'attr': 'real'}, {'coeff': 4, 'attr': 'real'}, {'coeff': 5, 'attr': 'real'}, {'coeff': 6, 'attr': 'real'}, {'coeff': 7, 'attr': 'real'}, {'coeff': 8, 'attr': 'real'}, {'coeff': 9, 'attr': 'real'}, {'coeff': 10, 'attr': 'real'}, {'coeff': 11, 'attr': 'real'}, {'coeff': 12, 'attr': 'real'}, {'coeff': 13, 'attr': 'real'}, {'coeff': 14, 'attr': 'real'}, {'coeff': 15, 'attr': 'real'}, {'coeff': 16, 'attr': 'real'}, {'coeff': 17, 'attr': 'real'}, {'coeff': 18, 'attr': 'real'}, {'coeff': 19, 'attr': 'real'}, {'coeff': 20, 'attr': 'real'}, {'coeff': 21, 'attr': 'real'}, {'coeff': 22, 'attr': 'real'}, {'coeff': 23, 'attr': 'real'}, {'coeff': 24, 'attr': 'real'}, {'coeff': 25, 'attr': 'real'}, {'coeff': 26, 'attr': 'real'}, {'coeff': 27, 'attr': 'real'}, {'coeff': 28, 'attr': 'real'}, {'coeff': 29, 'attr': 'real'}, {'coeff': 30, 'attr': 'real'}, {'coeff': 31, 'attr': 'real'}, {'coeff': 32, 'attr': 'real'}, {'coeff': 33, 'attr': 'real'}, {'coeff': 34, 'attr': 'real'}, {'coeff': 35, 'attr': 'real'}, {'coeff': 36, 'attr': 'real'}, {'coeff': 37, 'attr': 'real'}, {'coeff': 38, 'attr': 'real'}, {'coeff': 39, 'attr': 'real'}, {'coeff': 40, 'attr': 'real'}, {'coeff': 41, 'attr': 'real'}, {'coeff': 42, 'attr': 'real'}, {'coeff': 43, 'attr': 'real'}, {'coeff': 44, 'attr': 'real'}, {'coeff': 45, 'attr': 'real'}, {'coeff': 46, 'attr': 'real'}, {'coeff': 47, 'attr': 'real'}, {'coeff': 48, 'attr': 'real'}, {'coeff': 49, 'attr': 'real'}, {'coeff': 50, 'attr': 'real'}, {'coeff': 51, 'attr': 'real'}, {'coeff': 52, 'attr': 'real'}, {'coeff': 53, 'attr': 'real'}, {'coeff': 54, 'attr': 'real'}, {'coeff': 55, 'attr': 'real'}, {'coeff': 56, 'attr': 'real'}, {'coeff': 57, 'attr': 'real'}, {'coeff': 58, 'attr': 'real'}, {'coeff': 59, 'attr': 'real'}, {'coeff': 60, 'attr': 'real'}, {'coeff': 61, 'attr': 'real'}, {'coeff': 62, 'attr': 'real'}, {'coeff': 63, 'attr': 'real'}, {'coeff': 64, 'attr': 'real'}, {'coeff': 65, 'attr': 'real'}, {'coeff': 66, 'attr': 'real'}, {'coeff': 67, 'attr': 'real'}, {'coeff': 68, 'attr': 'real'}, {'coeff': 69, 'attr': 'real'}, {'coeff': 70, 'attr': 'real'}, {'coeff': 71, 'attr': 'real'}, {'coeff': 72, 'attr': 'real'}, {'coeff': 73, 'attr': 'real'}, {'coeff': 74, 'attr': 'real'}, {'coeff': 75, 'attr': 'real'}, {'coeff': 76, 'attr': 'real'}, {'coeff': 77, 'attr': 'real'}, {'coeff': 78, 'attr': 'real'}, {'coeff': 79, 'attr': 'real'}, {'coeff': 80, 'attr': 'real'}, {'coeff': 81, 'attr': 'real'}, {'coeff': 82, 'attr': 'real'}, {'coeff': 83, 'attr': 'real'}, {'coeff': 84, 'attr': 'real'}, {'coeff': 85, 'attr': 'real'}, {'coeff': 86, 'attr': 'real'}, {'coeff': 87, 'attr': 'real'}, {'coeff': 88, 'attr': 'real'}, {'coeff': 89, 'attr': 'real'}, {'coeff': 90, 'attr': 'real'}, {'coeff': 91, 'attr': 'real'}, {'coeff': 92, 'attr': 'real'}, {'coeff': 93, 'attr': 'real'}, {'coeff': 94, 'attr': 'real'}, {'coeff': 95, 'attr': 'real'}, {'coeff': 96, 'attr': 'real'}, {'coeff': 97, 'attr': 'real'}, {'coeff': 98, 'attr': 'real'}, {'coeff': 99, 'attr': 'real'}, {'coeff': 0, 'attr': 'imag'}, {'coeff': 1, 'attr': 'imag'}, {'coeff': 2, 'attr': 'imag'}, {'coeff': 3, 'attr': 'imag'}, {'coeff': 4, 'attr': 'imag'}, {'coeff': 5, 'attr': 'imag'}, {'coeff': 6, 'attr': 'imag'}, {'coeff': 7, 'attr': 'imag'}, {'coeff': 8, 'attr': 'imag'}, {'coeff': 9, 'attr': 'imag'}, {'coeff': 10, 'attr': 'imag'}, {'coeff': 11, 'attr': 'imag'}, {'coeff': 12, 'attr': 'imag'}, {'coeff': 13, 'attr': 'imag'}, {'coeff': 14, 'attr': 'imag'}, {'coeff': 15, 'attr': 'imag'}, {'coeff': 16, 'attr': 'imag'}, {'coeff': 17, 'attr': 'imag'}, {'coeff': 18, 'attr': 'imag'}, {'coeff': 19, 'attr': 'imag'}, {'coeff': 20, 'attr': 'imag'}, {'coeff': 21, 'attr': 'imag'}, {'coeff': 22, 'attr': 'imag'}, {'coeff': 23, 'attr': 'imag'}, {'coeff': 24, 'attr': 'imag'}, {'coeff': 25, 'attr': 'imag'}, {'coeff': 26, 'attr': 'imag'}, {'coeff': 27, 'attr': 'imag'}, {'coeff': 28, 'attr': 'imag'}, {'coeff': 29, 'attr': 'imag'}, {'coeff': 30, 'attr': 'imag'}, {'coeff': 31, 'attr': 'imag'}, {'coeff': 32, 'attr': 'imag'}, {'coeff': 33, 'attr': 'imag'}, {'coeff': 34, 'attr': 'imag'}, {'coeff': 35, 'attr': 'imag'}, {'coeff': 36, 'attr': 'imag'}, {'coeff': 37, 'attr': 'imag'}, {'coeff': 38, 'attr': 'imag'}, {'coeff': 39, 'attr': 'imag'}, {'coeff': 40, 'attr': 'imag'}, {'coeff': 41, 'attr': 'imag'}, {'coeff': 42, 'attr': 'imag'}, {'coeff': 43, 'attr': 'imag'}, {'coeff': 44, 'attr': 'imag'}, {'coeff': 45, 'attr': 'imag'}, {'coeff': 46, 'attr': 'imag'}, {'coeff': 47, 'attr': 'imag'}, {'coeff': 48, 'attr': 'imag'}, {'coeff': 49, 'attr': 'imag'}, {'coeff': 50, 'attr': 'imag'}, {'coeff': 51, 'attr': 'imag'}, {'coeff': 52, 'attr': 'imag'}, {'coeff': 53, 'attr': 'imag'}, {'coeff': 54, 'attr': 'imag'}, {'coeff': 55, 'attr': 'imag'}, {'coeff': 56, 'attr': 'imag'}, {'coeff': 57, 'attr': 'imag'}, {'coeff': 58, 'attr': 'imag'}, {'coeff': 59, 'attr': 'imag'}, {'coeff': 60, 'attr': 'imag'}, {'coeff': 61, 'attr': 'imag'}, {'coeff': 62, 'attr': 'imag'}, {'coeff': 63, 'attr': 'imag'}, {'coeff': 64, 'attr': 'imag'}, {'coeff': 65, 'attr': 'imag'}, {'coeff': 66, 'attr': 'imag'}, {'coeff': 67, 'attr': 'imag'}, {'coeff': 68, 'attr': 'imag'}, {'coeff': 69, 'attr': 'imag'}, {'coeff': 70, 'attr': 'imag'}, {'coeff': 71, 'attr': 'imag'}, {'coeff': 72, 'attr': 'imag'}, {'coeff': 73, 'attr': 'imag'}, {'coeff': 74, 'attr': 'imag'}, {'coeff': 75, 'attr': 'imag'}, {'coeff': 76, 'attr': 'imag'}, {'coeff': 77, 'attr': 'imag'}, {'coeff': 78, 'attr': 'imag'}, {'coeff': 79, 'attr': 'imag'}, {'coeff': 80, 'attr': 'imag'}, {'coeff': 81, 'attr': 'imag'}, {'coeff': 82, 'attr': 'imag'}, {'coeff': 83, 'attr': 'imag'}, {'coeff': 84, 'attr': 'imag'}, {'coeff': 85, 'attr': 'imag'}, {'coeff': 86, 'attr': 'imag'}, {'coeff': 87, 'attr': 'imag'}, {'coeff': 88, 'attr': 'imag'}, {'coeff': 89, 'attr': 'imag'}, {'coeff': 90, 'attr': 'imag'}, {'coeff': 91, 'attr': 'imag'}, {'coeff': 92, 'attr': 'imag'}, {'coeff': 93, 'attr': 'imag'}, {'coeff': 94, 'attr': 'imag'}, {'coeff': 95, 'attr': 'imag'}, {'coeff': 96, 'attr': 'imag'}, {'coeff': 97, 'attr': 'imag'}, {'coeff': 98, 'attr': 'imag'}, {'coeff': 99, 'attr': 'imag'}, {'coeff': 0, 'attr': 'abs'}, {'coeff': 1, 'attr': 'abs'}, {'coeff': 2, 'attr': 'abs'}, {'coeff': 3, 'attr': 'abs'}, {'coeff': 4, 'attr': 'abs'}, {'coeff': 5, 'attr': 'abs'}, {'coeff': 6, 'attr': 'abs'}, {'coeff': 7, 'attr': 'abs'}, {'coeff': 8, 'attr': 'abs'}, {'coeff': 9, 'attr': 'abs'}, {'coeff': 10, 'attr': 'abs'}, {'coeff': 11, 'attr': 'abs'}, {'coeff': 12, 'attr': 'abs'}, {'coeff': 13, 'attr': 'abs'}, {'coeff': 14, 'attr': 'abs'}, {'coeff': 15, 'attr': 'abs'}, {'coeff': 16, 'attr': 'abs'}, {'coeff': 17, 'attr': 'abs'}, {'coeff': 18, 'attr': 'abs'}, {'coeff': 19, 'attr': 'abs'}, {'coeff': 20, 'attr': 'abs'}, {'coeff': 21, 'attr': 'abs'}, {'coeff': 22, 'attr': 'abs'}, {'coeff': 23, 'attr': 'abs'}, {'coeff': 24, 'attr': 'abs'}, {'coeff': 25, 'attr': 'abs'}, {'coeff': 26, 'attr': 'abs'}, {'coeff': 27, 'attr': 'abs'}, {'coeff': 28, 'attr': 'abs'}, {'coeff': 29, 'attr': 'abs'}, {'coeff': 30, 'attr': 'abs'}, {'coeff': 31, 'attr': 'abs'}, {'coeff': 32, 'attr': 'abs'}, {'coeff': 33, 'attr': 'abs'}, {'coeff': 34, 'attr': 'abs'}, {'coeff': 35, 'attr': 'abs'}, {'coeff': 36, 'attr': 'abs'}, {'coeff': 37, 'attr': 'abs'}, {'coeff': 38, 'attr': 'abs'}, {'coeff': 39, 'attr': 'abs'}, {'coeff': 40, 'attr': 'abs'}, {'coeff': 41, 'attr': 'abs'}, {'coeff': 42, 'attr': 'abs'}, {'coeff': 43, 'attr': 'abs'}, {'coeff': 44, 'attr': 'abs'}, {'coeff': 45, 'attr': 'abs'}, {'coeff': 46, 'attr': 'abs'}, {'coeff': 47, 'attr': 'abs'}, {'coeff': 48, 'attr': 'abs'}, {'coeff': 49, 'attr': 'abs'}, {'coeff': 50, 'attr': 'abs'}, {'coeff': 51, 'attr': 'abs'}, {'coeff': 52, 'attr': 'abs'}, {'coeff': 53, 'attr': 'abs'}, {'coeff': 54, 'attr': 'abs'}, {'coeff': 55, 'attr': 'abs'}, {'coeff': 56, 'attr': 'abs'}, {'coeff': 57, 'attr': 'abs'}, {'coeff': 58, 'attr': 'abs'}, {'coeff': 59, 'attr': 'abs'}, {'coeff': 60, 'attr': 'abs'}, {'coeff': 61, 'attr': 'abs'}, {'coeff': 62, 'attr': 'abs'}, {'coeff': 63, 'attr': 'abs'}, {'coeff': 64, 'attr': 'abs'}, {'coeff': 65, 'attr': 'abs'}, {'coeff': 66, 'attr': 'abs'}, {'coeff': 67, 'attr': 'abs'}, {'coeff': 68, 'attr': 'abs'}, {'coeff': 69, 'attr': 'abs'}, {'coeff': 70, 'attr': 'abs'}, {'coeff': 71, 'attr': 'abs'}, {'coeff': 72, 'attr': 'abs'}, {'coeff': 73, 'attr': 'abs'}, {'coeff': 74, 'attr': 'abs'}, {'coeff': 75, 'attr': 'abs'}, {'coeff': 76, 'attr': 'abs'}, {'coeff': 77, 'attr': 'abs'}, {'coeff': 78, 'attr': 'abs'}, {'coeff': 79, 'attr': 'abs'}, {'coeff': 80, 'attr': 'abs'}, {'coeff': 81, 'attr': 'abs'}, {'coeff': 82, 'attr': 'abs'}, {'coeff': 83, 'attr': 'abs'}, {'coeff': 84, 'attr': 'abs'}, {'coeff': 85, 'attr': 'abs'}, {'coeff': 86, 'attr': 'abs'}, {'coeff': 87, 'attr': 'abs'}, {'coeff': 88, 'attr': 'abs'}, {'coeff': 89, 'attr': 'abs'}, {'coeff': 90, 'attr': 'abs'}, {'coeff': 91, 'attr': 'abs'}, {'coeff': 92, 'attr': 'abs'}, {'coeff': 93, 'attr': 'abs'}, {'coeff': 94, 'attr': 'abs'}, {'coeff': 95, 'attr': 'abs'}, {'coeff': 96, 'attr': 'abs'}, {'coeff': 97, 'attr': 'abs'}, {'coeff': 98, 'attr': 'abs'}, {'coeff': 99, 'attr': 'abs'}, {'coeff': 0, 'attr': 'angle'}, {'coeff': 1, 'attr': 'angle'}, {'coeff': 2, 'attr': 'angle'}, {'coeff': 3, 'attr': 'angle'}, {'coeff': 4, 'attr': 'angle'}, {'coeff': 5, 'attr': 'angle'}, {'coeff': 6, 'attr': 'angle'}, {'coeff': 7, 'attr': 'angle'}, {'coeff': 8, 'attr': 'angle'}, {'coeff': 9, 'attr': 'angle'}, {'coeff': 10, 'attr': 'angle'}, {'coeff': 11, 'attr': 'angle'}, {'coeff': 12, 'attr': 'angle'}, {'coeff': 13, 'attr': 'angle'}, {'coeff': 14, 'attr': 'angle'}, {'coeff': 15, 'attr': 'angle'}, {'coeff': 16, 'attr': 'angle'}, {'coeff': 17, 'attr': 'angle'}, {'coeff': 18, 'attr': 'angle'}, {'coeff': 19, 'attr': 'angle'}, {'coeff': 20, 'attr': 'angle'}, {'coeff': 21, 'attr': 'angle'}, {'coeff': 22, 'attr': 'angle'}, {'coeff': 23, 'attr': 'angle'}, {'coeff': 24, 'attr': 'angle'}, {'coeff': 25, 'attr': 'angle'}, {'coeff': 26, 'attr': 'angle'}, {'coeff': 27, 'attr': 'angle'}, {'coeff': 28, 'attr': 'angle'}, {'coeff': 29, 'attr': 'angle'}, {'coeff': 30, 'attr': 'angle'}, {'coeff': 31, 'attr': 'angle'}, {'coeff': 32, 'attr': 'angle'}, {'coeff': 33, 'attr': 'angle'}, {'coeff': 34, 'attr': 'angle'}, {'coeff': 35, 'attr': 'angle'}, {'coeff': 36, 'attr': 'angle'}, {'coeff': 37, 'attr': 'angle'}, {'coeff': 38, 'attr': 'angle'}, {'coeff': 39, 'attr': 'angle'}, {'coeff': 40, 'attr': 'angle'}, {'coeff': 41, 'attr': 'angle'}, {'coeff': 42, 'attr': 'angle'}, {'coeff': 43, 'attr': 'angle'}, {'coeff': 44, 'attr': 'angle'}, {'coeff': 45, 'attr': 'angle'}, {'coeff': 46, 'attr': 'angle'}, {'coeff': 47, 'attr': 'angle'}, {'coeff': 48, 'attr': 'angle'}, {'coeff': 49, 'attr': 'angle'}, {'coeff': 50, 'attr': 'angle'}, {'coeff': 51, 'attr': 'angle'}, {'coeff': 52, 'attr': 'angle'}, {'coeff': 53, 'attr': 'angle'}, {'coeff': 54, 'attr': 'angle'}, {'coeff': 55, 'attr': 'angle'}, {'coeff': 56, 'attr': 'angle'}, {'coeff': 57, 'attr': 'angle'}, {'coeff': 58, 'attr': 'angle'}, {'coeff': 59, 'attr': 'angle'}, {'coeff': 60, 'attr': 'angle'}, {'coeff': 61, 'attr': 'angle'}, {'coeff': 62, 'attr': 'angle'}, {'coeff': 63, 'attr': 'angle'}, {'coeff': 64, 'attr': 'angle'}, {'coeff': 65, 'attr': 'angle'}, {'coeff': 66, 'attr': 'angle'}, {'coeff': 67, 'attr': 'angle'}, {'coeff': 68, 'attr': 'angle'}, {'coeff': 69, 'attr': 'angle'}, {'coeff': 70, 'attr': 'angle'}, {'coeff': 71, 'attr': 'angle'}, {'coeff': 72, 'attr': 'angle'}, {'coeff': 73, 'attr': 'angle'}, {'coeff': 74, 'attr': 'angle'}, {'coeff': 75, 'attr': 'angle'}, {'coeff': 76, 'attr': 'angle'}, {'coeff': 77, 'attr': 'angle'}, {'coeff': 78, 'attr': 'angle'}, {'coeff': 79, 'attr': 'angle'}, {'coeff': 80, 'attr': 'angle'}, {'coeff': 81, 'attr': 'angle'}, {'coeff': 82, 'attr': 'angle'}, {'coeff': 83, 'attr': 'angle'}, {'coeff': 84, 'attr': 'angle'}, {'coeff': 85, 'attr': 'angle'}, {'coeff': 86, 'attr': 'angle'}, {'coeff': 87, 'attr': 'angle'}, {'coeff': 88, 'attr': 'angle'}, {'coeff': 89, 'attr': 'angle'}, {'coeff': 90, 'attr': 'angle'}, {'coeff': 91, 'attr': 'angle'}, {'coeff': 92, 'attr': 'angle'}, {'coeff': 93, 'attr': 'angle'}, {'coeff': 94, 'attr': 'angle'}, {'coeff': 95, 'attr': 'angle'}, {'coeff': 96, 'attr': 'angle'}, {'coeff': 97, 'attr': 'angle'}, {'coeff': 98, 'attr': 'angle'}, {'coeff': 99, 'attr': 'angle'}], 'fft_aggregated': [{'aggtype': 'centroid'}, {'aggtype': 'variance'}, {'aggtype': 'skew'}, {'aggtype': 'kurtosis'}], 'value_count': [{'value': 0}, {'value': 1}, {'value': -1}], 'range_count': [{'min': -1, 'max': 1}, {'min': -1000000000000.0, 'max': 0}, {'min': 0, 'max': 1000000000000.0}], 'friedrich_coefficients': [{'coeff': 0, 'm': 3, 'r': 30}, {'coeff': 1, 'm': 3, 'r': 30}, {'coeff': 2, 'm': 3, 'r': 30}, {'coeff': 3, 'm': 3, 'r': 30}], 'max_langevin_fixed_point': [{'m': 3, 'r': 30}], 'linear_trend': [{'attr': 'pvalue'}, {'attr': 'rvalue'}, {'attr': 'intercept'}, {'attr': 'slope'}, {'attr': 'stderr'}], 'agg_linear_trend': [{'attr': 'rvalue', 'chunk_len': 5, 'f_agg': 'max'}, {'attr': 'rvalue', 'chunk_len': 5, 'f_agg': 'min'}, {'attr': 'rvalue', 'chunk_len': 5, 'f_agg': 'mean'}, {'attr': 'rvalue', 'chunk_len': 5, 'f_agg': 'var'}, {'attr': 'rvalue', 'chunk_len': 10, 'f_agg': 'max'}, {'attr': 'rvalue', 'chunk_len': 10, 'f_agg': 'min'}, {'attr': 'rvalue', 'chunk_len': 10, 'f_agg': 'mean'}, {'attr': 'rvalue', 'chunk_len': 10, 'f_agg': 'var'}, {'attr': 'rvalue', 'chunk_len': 50, 'f_agg': 'max'}, {'attr': 'rvalue', 'chunk_len': 50, 'f_agg': 'min'}, {'attr': 'rvalue', 'chunk_len': 50, 'f_agg': 'mean'}, {'attr': 'rvalue', 'chunk_len': 50, 'f_agg': 'var'}, {'attr': 'intercept', 'chunk_len': 5, 'f_agg': 'max'}, {'attr': 'intercept', 'chunk_len': 5, 'f_agg': 'min'}, {'attr': 'intercept', 'chunk_len': 5, 'f_agg': 'mean'}, {'attr': 'intercept', 'chunk_len': 5, 'f_agg': 'var'}, {'attr': 'intercept', 'chunk_len': 10, 'f_agg': 'max'}, {'attr': 'intercept', 'chunk_len': 10, 'f_agg': 'min'}, {'attr': 'intercept', 'chunk_len': 10, 'f_agg': 'mean'}, {'attr': 'intercept', 'chunk_len': 10, 'f_agg': 'var'}, {'attr': 'intercept', 'chunk_len': 50, 'f_agg': 'max'}, {'attr': 'intercept', 'chunk_len': 50, 'f_agg': 'min'}, {'attr': 'intercept', 'chunk_len': 50, 'f_agg': 'mean'}, {'attr': 'intercept', 'chunk_len': 50, 'f_agg': 'var'}, {'attr': 'slope', 'chunk_len': 5, 'f_agg': 'max'}, {'attr': 'slope', 'chunk_len': 5, 'f_agg': 'min'}, {'attr': 'slope', 'chunk_len': 5, 'f_agg': 'mean'}, {'attr': 'slope', 'chunk_len': 5, 'f_agg': 'var'}, {'attr': 'slope', 'chunk_len': 10, 'f_agg': 'max'}, {'attr': 'slope', 'chunk_len': 10, 'f_agg': 'min'}, {'attr': 'slope', 'chunk_len': 10, 'f_agg': 'mean'}, {'attr': 'slope', 'chunk_len': 10, 'f_agg': 'var'}, {'attr': 'slope', 'chunk_len': 50, 'f_agg': 'max'}, {'attr': 'slope', 'chunk_len': 50, 'f_agg': 'min'}, {'attr': 'slope', 'chunk_len': 50, 'f_agg': 'mean'}, {'attr': 'slope', 'chunk_len': 50, 'f_agg': 'var'}, {'attr': 'stderr', 'chunk_len': 5, 'f_agg': 'max'}, {'attr': 'stderr', 'chunk_len': 5, 'f_agg': 'min'}, {'attr': 'stderr', 'chunk_len': 5, 'f_agg': 'mean'}, {'attr': 'stderr', 'chunk_len': 5, 'f_agg': 'var'}, {'attr': 'stderr', 'chunk_len': 10, 'f_agg': 'max'}, {'attr': 'stderr', 'chunk_len': 10, 'f_agg': 'min'}, {'attr': 'stderr', 'chunk_len': 10, 'f_agg': 'mean'}, {'attr': 'stderr', 'chunk_len': 10, 'f_agg': 'var'}, {'attr': 'stderr', 'chunk_len': 50, 'f_agg': 'max'}, {'attr': 'stderr', 'chunk_len': 50, 'f_agg': 'min'}, {'attr': 'stderr', 'chunk_len': 50, 'f_agg': 'mean'}, {'attr': 'stderr', 'chunk_len': 50, 'f_agg': 'var'}], 'augmented_dickey_fuller': [{'attr': 'teststat'}, {'attr': 'pvalue'}, {'attr': 'usedlag'}], 'number_crossing_m': [{'m': 0}, {'m': -1}, {'m': 1}], 'energy_ratio_by_chunks': [{'num_segments': 10, 'segment_focus': 0}, {'num_segments': 10, 'segment_focus': 1}, {'num_segments': 10, 'segment_focus': 2}, {'num_segments': 10, 'segment_focus': 3}, {'num_segments': 10, 'segment_focus': 4}, {'num_segments': 10, 'segment_focus': 5}, {'num_segments': 10, 'segment_focus': 6}, {'num_segments': 10, 'segment_focus': 7}, {'num_segments': 10, 'segment_focus': 8}, {'num_segments': 10, 'segment_focus': 9}], 'ratio_beyond_r_sigma': [{'r': 0.5}, {'r': 1}, {'r': 1.5}, {'r': 2}, {'r': 2.5}, {'r': 3}, {'r': 5}, {'r': 6}, {'r': 7}, {'r': 10}], 'linear_trend_timewise': [{'attr': 'pvalue'}, {'attr': 'rvalue'}, {'attr': 'intercept'}, {'attr': 'slope'}, {'attr': 'stderr'}], 'count_above': [{'t': 0}], 'count_below': [{'t': 0}], 'lempel_ziv_complexity': [{'bins': 2}, {'bins': 3}, {'bins': 5}, {'bins': 10}, {'bins': 100}], 'fourier_entropy': [{'bins': 2}, {'bins': 3}, {'bins': 5}, {'bins': 10}, {'bins': 100}], 'permutation_entropy': [{'tau': 1, 'dimension': 3}, {'tau': 1, 'dimension': 4}, {'tau': 1, 'dimension': 5}, {'tau': 1, 'dimension': 6}, {'tau': 1, 'dimension': 7}], 'query_similarity_count': [{'query': None, 'threshold': 0.0}], 'matrix_profile': [{'threshold': 0.98, 'feature': 'min'}, {'threshold': 0.98, 'feature': 'max'}, {'threshold': 0.98, 'feature': 'mean'}, {'threshold': 0.98, 'feature': 'median'}, {'threshold': 0.98, 'feature': '25'}, {'threshold': 0.98, 'feature': '75'}], 'mean_n_absolute_max': [{'number_of_maxima': 7}]}\n",
            "ERROR! Session/line number was not unique in database. History logging moved to new session 3\n"
          ]
        }
      ],
      "source": [
        "# See all of the efficient parameters of tsfresh to select only the needed\n",
        "extraction_settings = EfficientFCParameters()\n",
        "print(extraction_settings)"
      ]
    },
    {
      "cell_type": "code",
      "execution_count": null,
      "metadata": {
        "id": "TrEeAkS7Q1kd",
        "outputId": "1cb3e8f8-a69d-4db9-8169-2f6a54469183"
      },
      "outputs": [
        {
          "name": "stdout",
          "output_type": "stream",
          "text": [
            "{'variance_larger_than_standard_deviation': None, 'sum_values': None, 'abs_energy': None, 'mean_abs_change': None, 'mean_change': None, 'mean_second_derivative_central': None, 'median': None, 'mean': None, 'length': None, 'standard_deviation': None, 'variation_coefficient': None, 'variance': None, 'skewness': None, 'kurtosis': None, 'root_mean_square': None, 'absolute_sum_of_changes': None, 'longest_strike_below_mean': None, 'longest_strike_above_mean': None, 'count_above_mean': None, 'count_below_mean': None, 'last_location_of_maximum': None, 'first_location_of_maximum': None, 'last_location_of_minimum': None, 'first_location_of_minimum': None, 'ratio_value_number_to_time_series_length': None, 'maximum': None, 'minimum': None, 'benford_correlation': None, 'time_reversal_asymmetry_statistic': [{'lag': 1}, {'lag': 2}, {'lag': 3}], 'c3': [{'lag': 1}, {'lag': 2}, {'lag': 3}], 'cid_ce': [{'normalize': True}, {'normalize': False}], 'large_standard_deviation': [{'r': 0.05}, {'r': 0.1}, {'r': 0.2}, {'r': 0.3}, {'r': 0.4}, {'r': 0.5}, {'r': 0.6}, {'r': 0.7}, {'r': 0.8}, {'r': 0.9}], 'quantile': [{'q': 0.1}, {'q': 0.2}, {'q': 0.3}, {'q': 0.4}, {'q': 0.6}, {'q': 0.7}, {'q': 0.8}, {'q': 0.9}], 'spkt_welch_density': [{'coeff': 2}, {'coeff': 5}, {'coeff': 8}], 'ar_coefficient': [{'coeff': 0, 'k': 10}, {'coeff': 1, 'k': 10}, {'coeff': 2, 'k': 10}, {'coeff': 3, 'k': 10}, {'coeff': 4, 'k': 10}, {'coeff': 5, 'k': 10}, {'coeff': 6, 'k': 10}, {'coeff': 7, 'k': 10}, {'coeff': 8, 'k': 10}, {'coeff': 9, 'k': 10}, {'coeff': 10, 'k': 10}], 'fft_coefficient': [{'coeff': 0, 'attr': 'real'}, {'coeff': 1, 'attr': 'real'}, {'coeff': 2, 'attr': 'real'}, {'coeff': 3, 'attr': 'real'}, {'coeff': 4, 'attr': 'real'}], 'fft_aggregated': [{'aggtype': 'centroid'}, {'aggtype': 'variance'}, {'aggtype': 'skew'}, {'aggtype': 'kurtosis'}], 'max_langevin_fixed_point': [{'m': 3, 'r': 30}], 'linear_trend': [{'attr': 'pvalue'}, {'attr': 'rvalue'}, {'attr': 'intercept'}, {'attr': 'slope'}, {'attr': 'stderr'}], 'energy_ratio_by_chunks': [{'num_segments': 10, 'segment_focus': 0}, {'num_segments': 10, 'segment_focus': 1}, {'num_segments': 10, 'segment_focus': 2}, {'num_segments': 10, 'segment_focus': 3}, {'num_segments': 10, 'segment_focus': 4}, {'num_segments': 10, 'segment_focus': 5}, {'num_segments': 10, 'segment_focus': 6}, {'num_segments': 10, 'segment_focus': 7}, {'num_segments': 10, 'segment_focus': 8}, {'num_segments': 10, 'segment_focus': 9}], 'ratio_beyond_r_sigma': [{'r': 0.5}, {'r': 1}, {'r': 1.5}, {'r': 2}, {'r': 2.5}, {'r': 3}, {'r': 5}, {'r': 6}, {'r': 7}, {'r': 10}], 'linear_trend_timewise': [{'attr': 'pvalue'}, {'attr': 'rvalue'}, {'attr': 'intercept'}, {'attr': 'slope'}, {'attr': 'stderr'}], 'lempel_ziv_complexity': [{'bins': 2}, {'bins': 3}, {'bins': 5}], 'fourier_entropy': [{'bins': 2}, {'bins': 3}, {'bins': 5}], 'permutation_entropy': [{'tau': 1, 'dimension': 3}, {'tau': 1, 'dimension': 4}, {'tau': 1, 'dimension': 5}], 'query_similarity_count': [{'query': None, 'threshold': 0.0}], 'mean_n_absolute_max': [{'number_of_maxima': 7}]}\n"
          ]
        }
      ],
      "source": [
        "# As we have seen in the tests with tsfresh, extracting all the columns defined by default leaves a dataset that is too large and takes too long to process.\n",
        "# We define here only the features to process and extract with tsfresh\n",
        "params = {\n",
        "    'variance_larger_than_standard_deviation': None,\n",
        "    'sum_values': None,\n",
        "    'abs_energy': None,\n",
        "    'mean_abs_change': None,\n",
        "    'mean_change': None,\n",
        "    'mean_second_derivative_central': None,\n",
        "    'median': None,\n",
        "    'mean': None,\n",
        "    'length': None,\n",
        "    'standard_deviation': None,\n",
        "    'variation_coefficient': None,\n",
        "    'variance': None,\n",
        "    'skewness': None,\n",
        "    'kurtosis': None,\n",
        "    'root_mean_square': None,\n",
        "    'absolute_sum_of_changes': None, \n",
        "    'longest_strike_below_mean': None,\n",
        "    'longest_strike_above_mean': None,\n",
        "    'count_above_mean': None,\n",
        "    'count_below_mean': None,\n",
        "    'last_location_of_maximum': None,\n",
        "    'first_location_of_maximum': None,\n",
        "    'last_location_of_minimum': None,\n",
        "    'first_location_of_minimum': None,\n",
        "    'ratio_value_number_to_time_series_length': None,\n",
        "    'maximum': None,\n",
        "    'minimum': None,\n",
        "    'benford_correlation': None,\n",
        "    'time_reversal_asymmetry_statistic': [\n",
        "        {'lag': 1\n",
        "        },\n",
        "        {'lag': 2\n",
        "        },\n",
        "        {'lag': 3\n",
        "        }\n",
        "    ], 'c3': [\n",
        "        {'lag': 1\n",
        "        },\n",
        "        {'lag': 2\n",
        "        },\n",
        "        {'lag': 3\n",
        "        }\n",
        "    ], 'cid_ce': [\n",
        "        {'normalize': True\n",
        "        },\n",
        "        {'normalize': False\n",
        "        }\n",
        "    ], 'large_standard_deviation': [\n",
        "        {'r': 0.05\n",
        "        },\n",
        "        {'r': 0.1\n",
        "        },\n",
        "        {'r': 0.2\n",
        "        },\n",
        "        {'r': 0.3\n",
        "        },\n",
        "        {'r': 0.4\n",
        "        },\n",
        "        {'r': 0.5\n",
        "        },\n",
        "        {'r': 0.6\n",
        "        },\n",
        "        {'r': 0.7\n",
        "        },\n",
        "        {'r': 0.8\n",
        "        },\n",
        "        {'r': 0.9\n",
        "        }\n",
        "    ], 'quantile': [\n",
        "        {'q': 0.1\n",
        "        },\n",
        "        {'q': 0.2\n",
        "        },\n",
        "        {'q': 0.3\n",
        "        },\n",
        "        {'q': 0.4\n",
        "        },\n",
        "        {'q': 0.6\n",
        "        },\n",
        "        {'q': 0.7\n",
        "        },\n",
        "        {'q': 0.8\n",
        "        },\n",
        "        {'q': 0.9\n",
        "        }\n",
        "    ], 'spkt_welch_density': [\n",
        "        {'coeff': 2\n",
        "        },\n",
        "        {'coeff': 5\n",
        "        },\n",
        "        {'coeff': 8\n",
        "        }\n",
        "    ], 'ar_coefficient': [\n",
        "        {'coeff': 0, 'k': 10\n",
        "        },\n",
        "        {'coeff': 1, 'k': 10\n",
        "        },\n",
        "        {'coeff': 2, 'k': 10\n",
        "        },\n",
        "        {'coeff': 3, 'k': 10\n",
        "        },\n",
        "        {'coeff': 4, 'k': 10\n",
        "        },\n",
        "        {'coeff': 5, 'k': 10\n",
        "        },\n",
        "        {'coeff': 6, 'k': 10\n",
        "        },\n",
        "        {'coeff': 7, 'k': 10\n",
        "        },\n",
        "        {'coeff': 8, 'k': 10\n",
        "        },\n",
        "        {'coeff': 9, 'k': 10\n",
        "        },\n",
        "        {'coeff': 10, 'k': 10\n",
        "        }\n",
        "    ], 'fft_coefficient': [\n",
        "        {'coeff': 0, 'attr': 'real'\n",
        "        },\n",
        "        {'coeff': 1, 'attr': 'real'\n",
        "        },\n",
        "        {'coeff': 2, 'attr': 'real'\n",
        "        },\n",
        "        {'coeff': 3, 'attr': 'real'\n",
        "        },\n",
        "        {'coeff': 4, 'attr': 'real'\n",
        "        }\n",
        "    ], 'fft_aggregated': [\n",
        "        {'aggtype': 'centroid'\n",
        "        },\n",
        "        {'aggtype': 'variance'\n",
        "        },\n",
        "        {'aggtype': 'skew'\n",
        "        },\n",
        "        {'aggtype': 'kurtosis'\n",
        "        }\n",
        "    ], 'max_langevin_fixed_point': [\n",
        "        {'m': 3, 'r': 30\n",
        "        }\n",
        "    ], 'linear_trend': [\n",
        "        {'attr': 'pvalue'\n",
        "        },\n",
        "        {'attr': 'rvalue'\n",
        "        },\n",
        "        {'attr': 'intercept'\n",
        "        },\n",
        "        {'attr': 'slope'\n",
        "        },\n",
        "        {'attr': 'stderr'\n",
        "        }\n",
        "    ], 'energy_ratio_by_chunks': [\n",
        "        {'num_segments': 10, 'segment_focus': 0\n",
        "        },\n",
        "        {'num_segments': 10, 'segment_focus': 1\n",
        "        },\n",
        "        {'num_segments': 10, 'segment_focus': 2\n",
        "        },\n",
        "        {'num_segments': 10, 'segment_focus': 3\n",
        "        },\n",
        "        {'num_segments': 10, 'segment_focus': 4\n",
        "        },\n",
        "        {'num_segments': 10, 'segment_focus': 5\n",
        "        },\n",
        "        {'num_segments': 10, 'segment_focus': 6\n",
        "        },\n",
        "        {'num_segments': 10, 'segment_focus': 7\n",
        "        },\n",
        "        {'num_segments': 10, 'segment_focus': 8\n",
        "        },\n",
        "        {'num_segments': 10, 'segment_focus': 9\n",
        "        }\n",
        "    ], 'ratio_beyond_r_sigma': [\n",
        "        {'r': 0.5\n",
        "        },\n",
        "        {'r': 1\n",
        "        },\n",
        "        {'r': 1.5\n",
        "        },\n",
        "        {'r': 2\n",
        "        },\n",
        "        {'r': 2.5\n",
        "        },\n",
        "        {'r': 3\n",
        "        },\n",
        "        {'r': 5\n",
        "        },\n",
        "        {'r': 6\n",
        "        },\n",
        "        {'r': 7\n",
        "        },\n",
        "        {'r': 10\n",
        "        }\n",
        "    ], 'linear_trend_timewise': [\n",
        "        {'attr': 'pvalue'\n",
        "        },\n",
        "        {'attr': 'rvalue'\n",
        "        },\n",
        "        {'attr': 'intercept'\n",
        "        },\n",
        "        {'attr': 'slope'\n",
        "        },\n",
        "        {'attr': 'stderr'\n",
        "        }\n",
        "    ], 'lempel_ziv_complexity': [\n",
        "        {'bins': 2\n",
        "        },\n",
        "        {'bins': 3\n",
        "        },\n",
        "        {'bins': 5\n",
        "        }\n",
        "    ], 'fourier_entropy': [\n",
        "        {'bins': 2\n",
        "        },\n",
        "        {'bins': 3\n",
        "        },\n",
        "        {'bins': 5\n",
        "        }\n",
        "    ], 'permutation_entropy': [\n",
        "        {'tau': 1, 'dimension': 3\n",
        "        },\n",
        "        {'tau': 1, 'dimension': 4\n",
        "        },\n",
        "        {'tau': 1, 'dimension': 5\n",
        "        }\n",
        "    ], 'query_similarity_count': [\n",
        "        {'query': None, 'threshold': 0.0\n",
        "        }\n",
        "    ], 'mean_n_absolute_max': [\n",
        "        {'number_of_maxima': 7}\n",
        "    ]\n",
        "}"
      ]
    },
    {
      "cell_type": "code",
      "execution_count": null,
      "metadata": {
        "id": "6bPdSMEhQ1kf"
      },
      "outputs": [],
      "source": [
        "# Join all of the separated CSVs into only one, with all of each segment train data with the time to eruption\n",
        "\n",
        "!mkdir segments\n",
        "\n",
        "for flag in train_frags:\n",
        "  if os.path.exists(flag):\n",
        "    # Read CSV into DataFrame\n",
        "    sensorDF = pd.read_csv(flag)\n",
        "    # Get the segment id removing the path and the extension of the file\n",
        "    segment_id = flag.replace(\"data/train/\", \"\").replace(\".csv\", \"\")\n",
        "    # Add an enum to make more easy to tsfresh processing the data\n",
        "    sensorDF.insert(0, 'time', range(1, 1+len(sensorDF)))\n",
        "    # Add the segment id to resultant DF\n",
        "    sensorDF.insert(0, 'id', segment_id)\n",
        "    # Get the time to eruption\n",
        "    df = trainDF[trainDF.segment_id.eq(int(segment_id))]\n",
        "    X = extract_features(sensorDF, column_id='id', column_sort='time', default_fc_parameters=params)\n",
        "    X.insert(0, 'segment_id', segment_id)\n",
        "    # Add time to eruption to the resultant DataFrame\n",
        "    X['time_to_eruption'] = df.iloc[0].time_to_eruption\n",
        "    # Save the dataframe\n",
        "    X.to_csv('segments/' + segment_id + '.csv')"
      ]
    },
    {
      "cell_type": "code",
      "execution_count": null,
      "metadata": {
        "id": "5SpT_LoVQ1kY"
      },
      "outputs": [],
      "source": [
        "# join all of the processed train data into one CSV (resultant File doesn't have headers)\n",
        "!tail -q -n-1 segments/*.csv > segments.csv"
      ]
    },
    {
      "cell_type": "code",
      "source": [
        "# Get all of the paths of the files of the test segments data\n",
        "test_frags = glob.glob(\"data/test/*\")\n",
        "print(\"Test Size: \" + str(len(test_frags)))"
      ],
      "metadata": {
        "id": "dI2S_7g1cbrl"
      },
      "execution_count": null,
      "outputs": []
    },
    {
      "cell_type": "code",
      "execution_count": null,
      "metadata": {
        "id": "xCkmrvgwQ1kf"
      },
      "outputs": [],
      "source": [
        "# Join all of the separated CSVs into only one, with all of each segment test data with the time to eruption (same process as the train data)\n",
        "\n",
        "!mkdir segments_test\n",
        "\n",
        "for flag in test_frags:\n",
        "  if os.path.exists(flag):\n",
        "    sensorDF = pd.read_csv(flag)\n",
        "    segment_id = flag.replace(\"data/test/\", \"\").replace(\".csv\", \"\")\n",
        "    sensorDF.insert(0, 'time', range(1, 1+len(sensorDF)))\n",
        "    sensorDF.insert(0, 'id', segment_id)\n",
        "    df = testDF[testDF.segment_id.eq(int(segment_id))]\n",
        "    X = extract_features(sensorDF, column_id='id', column_sort='time', default_fc_parameters=params)\n",
        "    X.insert(0, 'segment_id', segment_id)\n",
        "    X['time_to_eruption'] = df.iloc[0].time_to_eruption\n",
        "    X.to_csv('segments_test/' + segment_id + '.csv')"
      ]
    },
    {
      "cell_type": "code",
      "execution_count": null,
      "metadata": {
        "id": "8qKSEMyOQ1kf"
      },
      "outputs": [],
      "source": [
        "# join all of the processed test data into one CSV (resultant File doesn't have headers)\n",
        "!tail -q -n-1 segments_test/*.csv > segments_test.csv"
      ]
    }
  ],
  "metadata": {
    "colab": {
      "collapsed_sections": [
        "Fn-8luyA6Rn7",
        "Wntmn7RpZtN7",
        "luyJyLBGdA6s"
      ],
      "name": "Feature extraction.ipynb",
      "provenance": []
    },
    "kernelspec": {
      "display_name": "Python 3",
      "language": "python",
      "name": "python3"
    },
    "language_info": {
      "codemirror_mode": {
        "name": "ipython",
        "version": 3
      },
      "file_extension": ".py",
      "mimetype": "text/x-python",
      "name": "python",
      "nbconvert_exporter": "python",
      "pygments_lexer": "ipython3",
      "version": "3.8.10"
    }
  },
  "nbformat": 4,
  "nbformat_minor": 0
}